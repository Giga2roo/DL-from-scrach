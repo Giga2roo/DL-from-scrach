{
 "cells": [
  {
   "cell_type": "markdown",
   "metadata": {},
   "source": [
    "# Chapter2. Perceptron\n",
    "\n",
    "- Frank Rosenblatt가 1957년에 고안\n",
    "- 신경망(Deep learning)의 기원이 되는 Algorithm"
   ]
  },
  {
   "cell_type": "markdown",
   "metadata": {},
   "source": [
    "### 2.1 Definition of Perceptron"
   ]
  },
  {
   "cell_type": "markdown",
   "metadata": {},
   "source": [
    "- 다수의 신호를 입력으로 받아 하나의 신호를 출력\n",
    "    \n",
    "    + '신호': 전류나 강물처럼 <span style='color:#2D3748;background-color: #fff5b1;font-weight:700'>흐름</span>이 있는 것\n",
    "<br>\n",
    "<br>\n",
    "- Perceptron 신호가 흐름 = 1, 신호가 흐르지 않음 = 0\n",
    "\n",
    "![입력이 2개인 Perceptron](./dataset/ch02_01_Perceptron.jpeg)\n",
    "\n",
    "- ${x_1, x_2}$: 입력 신호\n",
    "- ${y}$: 출력 신호\n",
    "- ${w_1, w_2}$: 가중치(weight)\n",
    "\n",
    "- 뉴런에서 보내온 신호의 총합이 정해진 한계(${\\theta}$,Threshold, 임계값)을 넘어설 때만 1을 출력\n",
    "\n",
    "$${y =\\begin{cases}0 \\ (w_1x_1 \\ + \\ w_2x_2 \\ \\leq \\ \\theta) \\\\ 1 \\ (w_1x_1 \\ + \\ w_2x_2 \\ > \\ \\theta )\\end{cases}}$$"
   ]
  },
  {
   "cell_type": "markdown",
   "metadata": {},
   "source": [
    "### 2.2 단순한 논리 회로"
   ]
  },
  {
   "cell_type": "markdown",
   "metadata": {},
   "source": [
    "> #### AND 게이트\n",
    "- AND 게이트 진리표대로 작동하는 ${(w_1,\\ w_2,\\ \\theta)}$ 값 예: (0.5, 9.5, 0.7) \n",
    "> #### NAND 게이트 & OR 게이트\n",
    "- NAND = Not AND = AND 게이트 출력을 뒤집은 값 = AND 게이트 가중치와 $\\theta$ 값의 **부호 반전**으로 적용 가능"
   ]
  },
  {
   "cell_type": "markdown",
   "metadata": {},
   "source": [
    "### 2.3 퍼센트론 구현하기"
   ]
  },
  {
   "cell_type": "markdown",
   "metadata": {},
   "source": [
    "> #### 간단한 구현\n",
    "```python\n",
    "def AND(x1, x2):\n",
    "    w1, w2, theta = 0.5, 0.5, 0.7\n",
    "    tmp = x1*w1 + x2*w2\n",
    "    if tmp <= theta:\n",
    "        return 0\n",
    "    elif tmp > theta:\n",
    "        return 1\n",
    "```\n",
    "\n",
    "- 매개 변수 "
   ]
  },
  {
   "cell_type": "code",
   "execution_count": 18,
   "metadata": {},
   "outputs": [
    {
     "name": "stdout",
     "output_type": "stream",
     "text": [
      "AND( 0 , 0 ):  0\n",
      "AND( 0 , 1 ):  0\n",
      "AND( 1 , 0 ):  0\n",
      "AND( 1 , 1 ):  1\n"
     ]
    }
   ],
   "source": [
    "def AND(x1, x2):\n",
    "    w1, w2, theta = 0.5, 0.5, 0.7\n",
    "    tmp = x1*w1 + x2*w2\n",
    "    if tmp <= theta:\n",
    "        return 0\n",
    "    elif tmp > theta:\n",
    "        return 1\n",
    "\n",
    "for i in range(0,2):\n",
    "    for j in range(0,2):\n",
    "        print(\"AND(\", i,\",\",j,\"): \", AND(i, j))"
   ]
  },
  {
   "cell_type": "markdown",
   "metadata": {},
   "source": [
    "#### 2.3.2 가중치와 편향 도입\n",
    "\n",
    "- ${\\theta}$를 -b로 치환\n",
    "$${y =\\begin{cases} \\ 0 \\ \\ (b \\ + \\ w_1x_1 \\ + \\ w_2x_2 \\ \\leq \\ \\theta) \\\\ \\ 1 \\ \\ (b \\ + \\ w_1x_1 \\ + \\ w_2x_2 \\ > \\ \\theta )\\end{cases}}$$\n",
    "\n",
    "```python\n",
    "import numpy as np\n",
    "\n",
    "def AND(x1, x2):\n",
    "    x = np.array([x1, x2])        # 입력\n",
    "    w = np.array([0.5, 0.5])    # 가중치\n",
    "    b = -0.7                    # 편향\n",
    "    tmp = np.sum(w*x) + b\n",
    "    if tmp <=0:\n",
    "        return 0\n",
    "    else:\n",
    "        return 1\n",
    "\n",
    "def NAND(x1, x2):\n",
    "    x = np.array([x1, x2])\n",
    "    w = np.array([-0.5, -0.5])  # AND와 NAND는 가중치만 다르다\n",
    "    b = 0.7\n",
    "    tmp = np.sum(x*w) + b\n",
    "    if tmp <= 0:\n",
    "        return 0\n",
    "    else:\n",
    "        return 1\n",
    "\n",
    "def OR(x1, x2):\n",
    "    x = np.array([x1, x2])\n",
    "    w = np.array([.5, .5])      # AND와 OR은 가중치만 다르다\n",
    "    b = -0.2\n",
    "    tmp = np.sum(w*x) + b\n",
    "    if tmp <= 0:\n",
    "        return 0\n",
    "    else:\n",
    "        return 1\n",
    "```\n"
   ]
  },
  {
   "cell_type": "code",
   "execution_count": 27,
   "metadata": {},
   "outputs": [
    {
     "name": "stdout",
     "output_type": "stream",
     "text": [
      "AND( 0 , 0 ):  0\n",
      "NAND( 0 , 0 ):  1\n",
      "OR( 0 , 0 ):  0\n",
      "AND( 0 , 1 ):  0\n",
      "NAND( 0 , 1 ):  1\n",
      "OR( 0 , 1 ):  1\n",
      "AND( 1 , 0 ):  0\n",
      "NAND( 1 , 0 ):  1\n",
      "OR( 1 , 0 ):  1\n",
      "AND( 1 , 1 ):  1\n",
      "NAND( 1 , 1 ):  0\n",
      "OR( 1 , 1 ):  1\n"
     ]
    }
   ],
   "source": [
    "import numpy as np\n",
    "\n",
    "def AND(x1, x2):\n",
    "    x = np.array([x1, x2])        # 입력\n",
    "    w = np.array([0.5, 0.5])    # 가중치\n",
    "    b = -0.7                    # 편향\n",
    "    tmp = np.sum(w*x) + b\n",
    "    if tmp <=0:\n",
    "        return  0\n",
    "    else:\n",
    "        return  1\n",
    "\n",
    "def NAND(x1, x2):\n",
    "    x = np.array([x1, x2])\n",
    "    w = np.array([-0.5, -0.5])  # AND와 NAND는 가중치만 다르다\n",
    "    b = 0.7\n",
    "    tmp = np.sum(x*w) + b\n",
    "    if tmp <= 0:\n",
    "        return 0\n",
    "    else:\n",
    "        return 1\n",
    "\n",
    "def OR(x1, x2):\n",
    "    x = np.array([x1, x2])\n",
    "    w = np.array([.5, .5])      # AND와 OR은 가중치만 다르다\n",
    "    b = -0.2\n",
    "    tmp = np.sum(w*x) + b\n",
    "    if tmp <= 0:\n",
    "        return 0\n",
    "    else:\n",
    "        return 1\n",
    "\n",
    "for i in range(0,2):\n",
    "    for j in range(0,2):\n",
    "        print(\"AND(\", i,\",\",j,\"): \", AND(i, j))\n",
    "        print(\"NAND(\", i,\",\",j,\"): \", NAND(i, j))\n",
    "        print(\"OR(\", i,\",\",j,\"): \", OR(i, j))"
   ]
  }
 ],
 "metadata": {
  "kernelspec": {
   "display_name": "Python 3.8.9 64-bit",
   "language": "python",
   "name": "python3"
  },
  "language_info": {
   "codemirror_mode": {
    "name": "ipython",
    "version": 3
   },
   "file_extension": ".py",
   "mimetype": "text/x-python",
   "name": "python",
   "nbconvert_exporter": "python",
   "pygments_lexer": "ipython3",
   "version": "3.8.9"
  },
  "orig_nbformat": 4,
  "vscode": {
   "interpreter": {
    "hash": "31f2aee4e71d21fbe5cf8b01ff0e069b9275f58929596ceb00d14d90e3e16cd6"
   }
  }
 },
 "nbformat": 4,
 "nbformat_minor": 2
}
